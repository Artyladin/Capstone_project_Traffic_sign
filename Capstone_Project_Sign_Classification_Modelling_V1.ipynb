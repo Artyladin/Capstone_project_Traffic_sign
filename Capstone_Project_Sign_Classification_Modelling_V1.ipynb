{
 "cells": [
  {
   "cell_type": "code",
   "execution_count": 1,
   "id": "eec0b2a6",
   "metadata": {},
   "outputs": [],
   "source": [
    "import numpy as np\n",
    "import pandas as pd\n",
    "import matplotlib.pyplot as plt\n",
    "import seaborn as sns\n",
    "\n",
    "\n",
    "from sklearn.metrics import confusion_matrix\n",
    "from sklearn.metrics import ConfusionMatrixDisplay\n",
    "from sklearn.metrics import classification_report\n",
    "from sklearn.model_selection import train_test_split\n",
    "\n",
    "# import keras\n",
    "import tensorflow as tf\n",
    "from tensorflow import keras\n",
    "from tensorflow.keras import layers\n",
    "from keras.models import Sequential\n",
    "from keras.preprocessing.image import ImageDataGenerator\n",
    "from tensorflow.keras.utils import to_categorical\n",
    "\n",
    "#Import pretrained models\n",
    "from tensorflow.keras.applications import VGG16"
   ]
  },
  {
   "cell_type": "markdown",
   "id": "4602dcef",
   "metadata": {},
   "source": [
    "Monday : \n",
    "* EDA\n",
    "* Modelling (ImageDataGenerator understanding, Custom CNN, start with Pretrained model\n",
    "\n",
    "Questions:\n",
    "- What the difference between resizing and cov ? \n",
    "\n",
    "To-do list :\n",
    "- Helper function to loop the pretrained model and transfer it to Colab\n",
    "\n",
    "Tuesday :"
   ]
  },
  {
   "cell_type": "code",
   "execution_count": 2,
   "id": "172253a5",
   "metadata": {},
   "outputs": [
    {
     "data": {
      "text/html": [
       "<div>\n",
       "<style scoped>\n",
       "    .dataframe tbody tr th:only-of-type {\n",
       "        vertical-align: middle;\n",
       "    }\n",
       "\n",
       "    .dataframe tbody tr th {\n",
       "        vertical-align: top;\n",
       "    }\n",
       "\n",
       "    .dataframe thead th {\n",
       "        text-align: right;\n",
       "    }\n",
       "</style>\n",
       "<table border=\"1\" class=\"dataframe\">\n",
       "  <thead>\n",
       "    <tr style=\"text-align: right;\">\n",
       "      <th></th>\n",
       "      <th>ClassId</th>\n",
       "      <th>Path</th>\n",
       "    </tr>\n",
       "  </thead>\n",
       "  <tbody>\n",
       "    <tr>\n",
       "      <th>0</th>\n",
       "      <td>Dangerous curve right</td>\n",
       "      <td>Train/20/00020_00000_00000.png</td>\n",
       "    </tr>\n",
       "    <tr>\n",
       "      <th>1</th>\n",
       "      <td>Dangerous curve right</td>\n",
       "      <td>Train/20/00020_00000_00001.png</td>\n",
       "    </tr>\n",
       "    <tr>\n",
       "      <th>2</th>\n",
       "      <td>Dangerous curve right</td>\n",
       "      <td>Train/20/00020_00000_00002.png</td>\n",
       "    </tr>\n",
       "    <tr>\n",
       "      <th>3</th>\n",
       "      <td>Dangerous curve right</td>\n",
       "      <td>Train/20/00020_00000_00003.png</td>\n",
       "    </tr>\n",
       "    <tr>\n",
       "      <th>4</th>\n",
       "      <td>Dangerous curve right</td>\n",
       "      <td>Train/20/00020_00000_00004.png</td>\n",
       "    </tr>\n",
       "  </tbody>\n",
       "</table>\n",
       "</div>"
      ],
      "text/plain": [
       "                 ClassId                            Path\n",
       "0  Dangerous curve right  Train/20/00020_00000_00000.png\n",
       "1  Dangerous curve right  Train/20/00020_00000_00001.png\n",
       "2  Dangerous curve right  Train/20/00020_00000_00002.png\n",
       "3  Dangerous curve right  Train/20/00020_00000_00003.png\n",
       "4  Dangerous curve right  Train/20/00020_00000_00004.png"
      ]
     },
     "execution_count": 2,
     "metadata": {},
     "output_type": "execute_result"
    }
   ],
   "source": [
    "train_df=pd.read_pickle('./train_df.pkl')\n",
    "train_df.head()"
   ]
  },
  {
   "cell_type": "code",
   "execution_count": 3,
   "id": "83b0cf3c",
   "metadata": {
    "scrolled": false
   },
   "outputs": [
    {
     "data": {
      "text/html": [
       "<div>\n",
       "<style scoped>\n",
       "    .dataframe tbody tr th:only-of-type {\n",
       "        vertical-align: middle;\n",
       "    }\n",
       "\n",
       "    .dataframe tbody tr th {\n",
       "        vertical-align: top;\n",
       "    }\n",
       "\n",
       "    .dataframe thead th {\n",
       "        text-align: right;\n",
       "    }\n",
       "</style>\n",
       "<table border=\"1\" class=\"dataframe\">\n",
       "  <thead>\n",
       "    <tr style=\"text-align: right;\">\n",
       "      <th></th>\n",
       "      <th>ClassId</th>\n",
       "      <th>Path</th>\n",
       "    </tr>\n",
       "  </thead>\n",
       "  <tbody>\n",
       "    <tr>\n",
       "      <th>0</th>\n",
       "      <td>Veh &gt; 3.5 tons prohibited</td>\n",
       "      <td>Test/00000.png</td>\n",
       "    </tr>\n",
       "    <tr>\n",
       "      <th>1</th>\n",
       "      <td>Speed limit (30km/h)</td>\n",
       "      <td>Test/00001.png</td>\n",
       "    </tr>\n",
       "    <tr>\n",
       "      <th>2</th>\n",
       "      <td>Keep right</td>\n",
       "      <td>Test/00002.png</td>\n",
       "    </tr>\n",
       "    <tr>\n",
       "      <th>3</th>\n",
       "      <td>Turn right ahead</td>\n",
       "      <td>Test/00003.png</td>\n",
       "    </tr>\n",
       "    <tr>\n",
       "      <th>4</th>\n",
       "      <td>Right-of-way at intersection</td>\n",
       "      <td>Test/00004.png</td>\n",
       "    </tr>\n",
       "  </tbody>\n",
       "</table>\n",
       "</div>"
      ],
      "text/plain": [
       "                        ClassId            Path\n",
       "0     Veh > 3.5 tons prohibited  Test/00000.png\n",
       "1          Speed limit (30km/h)  Test/00001.png\n",
       "2                    Keep right  Test/00002.png\n",
       "3              Turn right ahead  Test/00003.png\n",
       "4  Right-of-way at intersection  Test/00004.png"
      ]
     },
     "execution_count": 3,
     "metadata": {},
     "output_type": "execute_result"
    }
   ],
   "source": [
    "test_df=pd.read_pickle('./test_df.pkl')\n",
    "test_df.head()"
   ]
  },
  {
   "cell_type": "code",
   "execution_count": 4,
   "id": "488c98dd",
   "metadata": {},
   "outputs": [
    {
     "data": {
      "text/html": [
       "<div>\n",
       "<style scoped>\n",
       "    .dataframe tbody tr th:only-of-type {\n",
       "        vertical-align: middle;\n",
       "    }\n",
       "\n",
       "    .dataframe tbody tr th {\n",
       "        vertical-align: top;\n",
       "    }\n",
       "\n",
       "    .dataframe thead th {\n",
       "        text-align: right;\n",
       "    }\n",
       "</style>\n",
       "<table border=\"1\" class=\"dataframe\">\n",
       "  <thead>\n",
       "    <tr style=\"text-align: right;\">\n",
       "      <th></th>\n",
       "      <th>ClassId</th>\n",
       "      <th>Path</th>\n",
       "    </tr>\n",
       "  </thead>\n",
       "  <tbody>\n",
       "    <tr>\n",
       "      <th>0</th>\n",
       "      <td>20</td>\n",
       "      <td>Train/20/00020_00000_00000.png</td>\n",
       "    </tr>\n",
       "    <tr>\n",
       "      <th>1</th>\n",
       "      <td>20</td>\n",
       "      <td>Train/20/00020_00000_00001.png</td>\n",
       "    </tr>\n",
       "    <tr>\n",
       "      <th>2</th>\n",
       "      <td>20</td>\n",
       "      <td>Train/20/00020_00000_00002.png</td>\n",
       "    </tr>\n",
       "    <tr>\n",
       "      <th>3</th>\n",
       "      <td>20</td>\n",
       "      <td>Train/20/00020_00000_00003.png</td>\n",
       "    </tr>\n",
       "    <tr>\n",
       "      <th>4</th>\n",
       "      <td>20</td>\n",
       "      <td>Train/20/00020_00000_00004.png</td>\n",
       "    </tr>\n",
       "  </tbody>\n",
       "</table>\n",
       "</div>"
      ],
      "text/plain": [
       "   ClassId                            Path\n",
       "0       20  Train/20/00020_00000_00000.png\n",
       "1       20  Train/20/00020_00000_00001.png\n",
       "2       20  Train/20/00020_00000_00002.png\n",
       "3       20  Train/20/00020_00000_00003.png\n",
       "4       20  Train/20/00020_00000_00004.png"
      ]
     },
     "execution_count": 4,
     "metadata": {},
     "output_type": "execute_result"
    }
   ],
   "source": [
    "full_df=pd.read_pickle('./full_df.pkl')\n",
    "full_df.head()"
   ]
  },
  {
   "cell_type": "code",
   "execution_count": null,
   "id": "58a84ef5",
   "metadata": {},
   "outputs": [],
   "source": [
    "classes = {\n",
    "    0: 'Speed limit (20km/h)',\n",
    "    1: 'Speed limit (30km/h)',\n",
    "    2: 'Speed limit (50km/h)',\n",
    "    3: 'Speed limit (60km/h)',\n",
    "    4: 'Speed limit (70km/h)',\n",
    "    5: 'Speed limit (80km/h)',\n",
    "    6: 'End of speed limit (80km/h)',\n",
    "    7: 'Speed limit (100km/h)',\n",
    "    8: 'Speed limit (120km/h)',\n",
    "    9: 'No passing',\n",
    "    10: 'No passing veh over 3.5 tons',\n",
    "    11: 'Right-of-way at intersection',\n",
    "    12: 'Priority road',\n",
    "    13: 'Yield',\n",
    "    14: 'Stop',\n",
    "    15: 'No vehicles',\n",
    "    16: 'Veh > 3.5 tons prohibited',\n",
    "    17: 'No entry',\n",
    "    18: 'General caution',\n",
    "    19: 'Dangerous curve left',\n",
    "    20: 'Dangerous curve right',\n",
    "    21: 'Double curve',\n",
    "    22: 'Bumpy road',\n",
    "    23: 'Slippery road',\n",
    "    24: 'Road narrows on the right',\n",
    "    25: 'Road work',\n",
    "    26: 'Traffic signals',\n",
    "    27: 'Pedestrians',\n",
    "    28: 'Children crossing',\n",
    "    29: 'Bicycles crossing',\n",
    "    30: 'Beware of ice/snow',\n",
    "    31: 'Wild animals crossing',\n",
    "    32: 'End speed + passing limits',\n",
    "    33: 'Turn right ahead',\n",
    "    34: 'Turn left ahead',\n",
    "    35: 'Ahead only',\n",
    "    36: 'Go straight or right',\n",
    "    37: 'Go straight or left',\n",
    "    38: 'Keep right',\n",
    "    39: 'Keep left',\n",
    "    40: 'Roundabout mandatory',\n",
    "    41: 'End of no passing',\n",
    "    42: 'End no passing veh > 3.5 tons'\n",
    "}\n",
    "\n",
    "l_classes = list(classes.values())\n",
    "nb_classes = len(l_classes)"
   ]
  },
  {
   "cell_type": "code",
   "execution_count": null,
   "id": "0be3f037",
   "metadata": {},
   "outputs": [],
   "source": [
    "width_im = 50\n",
    "height_im = 50\n",
    "image_size = (width_im, height_im)\n",
    "batch_size = 64"
   ]
  },
  {
   "cell_type": "code",
   "execution_count": null,
   "id": "03b8db8a",
   "metadata": {},
   "outputs": [],
   "source": [
    "#Shuffle the rows of the training dataframe to be corretly split for validation\n",
    "train_df = train_df.sample(frac=1).reset_index(drop=True)\n",
    "\n",
    "#\n",
    "train_datagen = ImageDataGenerator(rescale=1 / 255, validation_split=0.10)\n",
    "\n",
    "#\n",
    "test_datagen = ImageDataGenerator(rescale=1 / 255)"
   ]
  },
  {
   "cell_type": "code",
   "execution_count": null,
   "id": "59b3bd7a",
   "metadata": {
    "scrolled": true
   },
   "outputs": [],
   "source": [
    "train_generator = train_datagen.flow_from_dataframe(dataframe=train_df,\n",
    "                                                    x_col=\"Path\",\n",
    "                                                    y_col=\"ClassId\",\n",
    "                                                    target_size=image_size,\n",
    "                                                    batch_size=batch_size,\n",
    "                                                    class_mode='categorical',\n",
    "                                                    classes=l_classes,\n",
    "                                                    subset='training',\n",
    "                                                    shuffle=True,\n",
    "                                                    seed=42)\n",
    "\n",
    "val_generator = train_datagen.flow_from_dataframe(dataframe=train_df,\n",
    "                                                  x_col=\"Path\",\n",
    "                                                  y_col=\"ClassId\",\n",
    "                                                  target_size=image_size,\n",
    "                                                  batch_size=batch_size,\n",
    "                                                  class_mode='categorical',\n",
    "                                                  classes=l_classes,\n",
    "                                                  subset='validation',\n",
    "                                                  shuffle=True,\n",
    "                                                  seed=42)\n",
    "\n",
    "test_generator = test_datagen.flow_from_dataframe(\n",
    "    dataframe=test_df,\n",
    "    x_col=\"Path\",\n",
    "    y_col=\"ClassId\",\n",
    "    target_size=image_size,\n",
    "    batch_size=1,\n",
    "    class_mode=None,\n",
    "    shuffle=False,\n",
    ")"
   ]
  },
  {
   "cell_type": "markdown",
   "id": "57dcfb91",
   "metadata": {},
   "source": [
    "## Custom model"
   ]
  },
  {
   "cell_type": "code",
   "execution_count": null,
   "id": "e94d31cc",
   "metadata": {},
   "outputs": [],
   "source": [
    "model = Sequential()\n",
    "\n",
    "model.add(\n",
    "    layers.Conv2D(32, (3, 3),\n",
    "                  activation='relu',\n",
    "                  input_shape=(width_im, height_im, 3)))\n",
    "model.add(layers.MaxPooling2D((2, 2)))\n",
    "model.add(layers.Conv2D(64, (3, 3), activation='relu'))\n",
    "model.add(layers.MaxPooling2D((2, 2)))\n",
    "model.add(layers.Conv2D(64, (3, 3), activation='relu'))\n",
    "model.add(layers.MaxPooling2D((2, 2)))\n",
    "model.add(layers.Flatten())\n",
    "model.add(layers.Dense(64, activation='relu'))\n",
    "model.add(layers.Dense(nb_classes, activation='softmax'))\n",
    "\n",
    "print(model.summary())"
   ]
  },
  {
   "cell_type": "code",
   "execution_count": null,
   "id": "bff38df7",
   "metadata": {},
   "outputs": [],
   "source": [
    "def plot_acc_Train_Val(history):\n",
    "    fig, ax = plt.subplots(1, 2, figsize=(18, 6))\n",
    "    fig.subplots_adjust(left=0.02, right=0.98, wspace=0.2)\n",
    "\n",
    "    plt.rcParams.update({'font.size': 10})\n",
    "\n",
    "    # Plot training & validation accuracy values\n",
    "    ax[0].plot(history.history['accuracy'], label='Training')\n",
    "    ax[0].plot(history.history['val_accuracy'], label='Validation')\n",
    "    ax[0].set_title('Model accuracy')\n",
    "    ax[0].set_ylabel('Accuracy')\n",
    "    ax[0].set_xlabel('Epoch')\n",
    "    ax[0].legend()\n",
    "\n",
    "    # Plot training & validation loss values\n",
    "    ax[1].plot(history.history['loss'], label='Training')\n",
    "    ax[1].plot(history.history['val_loss'], label='Validation')\n",
    "    ax[1].set_title('Model loss')\n",
    "    ax[1].set_ylabel('Loss')\n",
    "    ax[1].set_xlabel('Epoch')\n",
    "    ax[1].legend()\n",
    "\n",
    "    plt.show()"
   ]
  },
  {
   "cell_type": "code",
   "execution_count": null,
   "id": "dcae1d57",
   "metadata": {},
   "outputs": [],
   "source": [
    "def plot_cm_report(y_pred_class):\n",
    "\n",
    "    cm = confusion_matrix(test_df['ClassId'], y_pred_class, labels=l_classes)\n",
    "    disp = ConfusionMatrixDisplay(cm, display_labels=l_classes)\n",
    "    fig, ax = plt.subplots(figsize=(15, 15))\n",
    "    disp.plot(ax=ax)\n",
    "    plt.title(f'Confusion matrix')\n",
    "    plt.xticks(rotation=90)\n",
    "    plt.show()\n",
    "\n",
    "    print(classification_report(test_df['ClassId'], y_pred_class))"
   ]
  },
  {
   "cell_type": "code",
   "execution_count": null,
   "id": "ce513875",
   "metadata": {},
   "outputs": [],
   "source": [
    "def plot_25im_prdct(y_pred_class):\n",
    "    plt.figure(figsize=(15, 15))\n",
    "    rndm_idx = np.random.randint(0, test_df.shape[0], 25)\n",
    "    for i, image_index in enumerate(rndm_idx):\n",
    "        plt.subplot(5, 5, i + 1)\n",
    "        plt.xticks([])\n",
    "        plt.yticks([])\n",
    "        plt.grid(False)\n",
    "        plt.imshow(plt.imread(test_df.loc[image_index, 'Path']))\n",
    "        plt.xlabel(test_df.loc[image_index, 'ClassId'])\n",
    "        plt.title(y_pred_class[image_index])\n",
    "    plt.show()"
   ]
  },
  {
   "cell_type": "code",
   "execution_count": null,
   "id": "291b17d8",
   "metadata": {},
   "outputs": [],
   "source": [
    "def compile_fit_predict_plot(model, plotcm=True, plot_sample=False):\n",
    "\n",
    "    model.compile(loss='categorical_crossentropy',\n",
    "                  optimizer=\"adam\",\n",
    "                  metrics=['accuracy'])\n",
    "\n",
    "    history = model.fit(train_generator,\n",
    "                        epochs=2,\n",
    "                        validation_data=val_generator)\n",
    "\n",
    "    plot_acc_Train_Val(history)\n",
    "\n",
    "    print('Predictions')\n",
    "    predict = model.predict(test_generator)\n",
    "    y_pred_class = predict.argmax(axis=-1)\n",
    "    y_pred_class = [classes[x] for x in y_pred_class]\n",
    "\n",
    "    if plot_cm_report: plot_cm_report(y_pred_class)\n",
    "\n",
    "    if plot_sample: plot_25im_prdct(y_pred_class)"
   ]
  },
  {
   "cell_type": "code",
   "execution_count": null,
   "id": "a16d8ac5",
   "metadata": {
    "scrolled": false
   },
   "outputs": [],
   "source": [
    "compile_fit_predict_plot(model)"
   ]
  },
  {
   "cell_type": "markdown",
   "id": "8964c0b1",
   "metadata": {},
   "source": [
    "## Pretrained Model"
   ]
  },
  {
   "cell_type": "markdown",
   "id": "f067b9fc",
   "metadata": {},
   "source": [
    "### ResNet50"
   ]
  },
  {
   "cell_type": "code",
   "execution_count": null,
   "id": "88532f68",
   "metadata": {},
   "outputs": [],
   "source": [
    "from tensorflow.keras.applications.resnet50 import ResNet50\n",
    "from tensorflow.keras.preprocessing import image\n",
    "from tensorflow.keras.applications.resnet50 import preprocess_input, decode_predictions"
   ]
  },
  {
   "cell_type": "code",
   "execution_count": null,
   "id": "055af7eb",
   "metadata": {},
   "outputs": [],
   "source": [
    "model = ResNet50(input_shape=(width_im,height_im,3),weights=None,classes=nb_classes)\n",
    "\n",
    "#fit\n",
    "\n",
    "\n",
    "img_path = test_df.iloc[0,3]\n",
    "img = image.load_img(img_path, target_size=(224, 224))\n",
    "x = image.img_to_array(img)\n",
    "x = np.expand_dims(x, axis=0)\n",
    "x = preprocess_input(x)\n",
    "preds = model.predict(x)\n",
    "\n",
    "# decode the results into a list of tuples (class, description, probability)\n",
    "print('Predicted:', decode_predictions(preds, top=3)[0])"
   ]
  },
  {
   "cell_type": "code",
   "execution_count": null,
   "id": "8537e7e1",
   "metadata": {
    "scrolled": true
   },
   "outputs": [],
   "source": [
    "model=VGG16(input_shape=(width_im,height_im,3),weights=None,classes=nb_classes)"
   ]
  },
  {
   "cell_type": "code",
   "execution_count": null,
   "id": "8dc93218",
   "metadata": {
    "scrolled": true
   },
   "outputs": [],
   "source": [
    "print(model.summary())"
   ]
  },
  {
   "cell_type": "code",
   "execution_count": null,
   "id": "0d28fa43",
   "metadata": {},
   "outputs": [],
   "source": [
    "compile_fit_predict_plot(model)"
   ]
  }
 ],
 "metadata": {
  "kernelspec": {
   "display_name": "Python 3 (ipykernel)",
   "language": "python",
   "name": "python3"
  },
  "language_info": {
   "codemirror_mode": {
    "name": "ipython",
    "version": 3
   },
   "file_extension": ".py",
   "mimetype": "text/x-python",
   "name": "python",
   "nbconvert_exporter": "python",
   "pygments_lexer": "ipython3",
   "version": "3.9.12"
  },
  "toc": {
   "base_numbering": 1,
   "nav_menu": {},
   "number_sections": true,
   "sideBar": true,
   "skip_h1_title": false,
   "title_cell": "Table of Contents",
   "title_sidebar": "Contents",
   "toc_cell": false,
   "toc_position": {},
   "toc_section_display": true,
   "toc_window_display": false
  },
  "varInspector": {
   "cols": {
    "lenName": 16,
    "lenType": 16,
    "lenVar": 40
   },
   "kernels_config": {
    "python": {
     "delete_cmd_postfix": "",
     "delete_cmd_prefix": "del ",
     "library": "var_list.py",
     "varRefreshCmd": "print(var_dic_list())"
    },
    "r": {
     "delete_cmd_postfix": ") ",
     "delete_cmd_prefix": "rm(",
     "library": "var_list.r",
     "varRefreshCmd": "cat(var_dic_list()) "
    }
   },
   "types_to_exclude": [
    "module",
    "function",
    "builtin_function_or_method",
    "instance",
    "_Feature"
   ],
   "window_display": false
  }
 },
 "nbformat": 4,
 "nbformat_minor": 5
}
